{
 "cells": [
  {
   "cell_type": "code",
   "execution_count": 51,
   "metadata": {},
   "outputs": [
    {
     "name": "stdout",
     "output_type": "stream",
     "text": [
      "73837\n",
      "22311\n"
     ]
    },
    {
     "data": {
      "text/plain": [
       "<Figure size 2400x1920 with 0 Axes>"
      ]
     },
     "metadata": {},
     "output_type": "display_data"
    }
   ],
   "source": [
    "import numpy\n",
    "import pandas\n",
    "\n",
    "import matplotlib.pyplot as plt\n",
    "\n",
    "from matplotlib.pyplot import figure\n",
    "figure(num=None, figsize=(30, 24), dpi=80, facecolor='w', edgecolor='k')\n",
    "\n",
    "data = pandas.read_csv(r\".\\occurrences.csv\", encoding='latin-1')\n",
    "print(len(data))\n",
    "\n",
    "ls = []\n",
    "\n",
    "for i in range(0, len(data)):\n",
    "    row = data.iloc[i]\n",
    "    if(row['country'] != \"USA\" and row['country'] != \"Mexico\"):\n",
    "        ls.append(i)\n",
    "    elif(pandas.isnull(data['stateProvince'].iloc[i]) or pandas.isnull(data['county'].iloc[i])):\n",
    "           ls.append(i)\n",
    "\n",
    "data.drop(ls, inplace=True)\n",
    "print(len(data))\n",
    "\n",
    "#data = data.drop(['gender', 'fastServe1', 'fastServe2', 'avgFirstServe1', 'avgFirstServe2', 'avgSecServe1', 'avgSecServe2',\n",
    "#       'break1', 'break2', 'total1', 'total2', 'winner1','winner2', 'error1', 'error2', 'net1', 'net2'], axis=1)\n",
    "\n",
    "#data = data.iloc[:1386]"
   ]
  },
  {
   "cell_type": "code",
   "execution_count": 56,
   "metadata": {},
   "outputs": [
    {
     "name": "stdout",
     "output_type": "stream",
     "text": [
      "2146\n"
     ]
    }
   ],
   "source": [
    "tax = {}\n",
    "ind = []\n",
    "\n",
    "for i in range(0, len(data)):\n",
    "    t = data['taxonID'].iloc[i]\n",
    "    if(t in tax and tax[t] > 2):\n",
    "        ind.append(i)\n",
    "    elif(t in tax):\n",
    "        tax[t] += 1\n",
    "    else:\n",
    "        tax[t] = 1\n",
    "\n",
    "data.drop(data.index[ind], inplace=True)\n",
    "print(len(data))"
   ]
  },
  {
   "cell_type": "code",
   "execution_count": 57,
   "metadata": {},
   "outputs": [],
   "source": [
    "data.to_csv(r\"./pro_occurrences.csv\", index=False)"
   ]
  },
  {
   "cell_type": "code",
   "execution_count": 2,
   "metadata": {},
   "outputs": [
    {
     "name": "stderr",
     "output_type": "stream",
     "text": [
      "C:\\Users\\kastu\\anaconda3\\lib\\site-packages\\IPython\\core\\interactiveshell.py:3063: DtypeWarning: Columns (10) have mixed types.Specify dtype option on import or set low_memory=False.\n",
      "  interactivity=interactivity, compiler=compiler, result=result)\n"
     ]
    },
    {
     "name": "stdout",
     "output_type": "stream",
     "text": [
      "       coreid                                         identifier  \\\n",
      "424    654617  https://serv.biokic.asu.edu/imglib/h_seinet/se...   \n",
      "425    693672  https://serv.biokic.asu.edu/imglib/h_seinet/se...   \n",
      "683    724153  https://serv.biokic.asu.edu/imglib/h_seinet/se...   \n",
      "1141  1101015  https://serv.biokic.asu.edu/imglib/h_seinet/se...   \n",
      "1142  1101016  https://serv.biokic.asu.edu/imglib/h_seinet/se...   \n",
      "\n",
      "                                              accessURI  \\\n",
      "424   https://serv.biokic.asu.edu/imglib/h_seinet/se...   \n",
      "425   https://serv.biokic.asu.edu/imglib/h_seinet/se...   \n",
      "683   https://serv.biokic.asu.edu/imglib/h_seinet/se...   \n",
      "1141  https://serv.biokic.asu.edu/imglib/h_seinet/se...   \n",
      "1142  https://serv.biokic.asu.edu/imglib/h_seinet/se...   \n",
      "\n",
      "                                     thumbnailAccessURI  \\\n",
      "424   https://serv.biokic.asu.edu/imglib/h_seinet/se...   \n",
      "425   https://serv.biokic.asu.edu/imglib/h_seinet/se...   \n",
      "683   https://serv.biokic.asu.edu/imglib/h_seinet/se...   \n",
      "1141  https://serv.biokic.asu.edu/imglib/h_seinet/se...   \n",
      "1142  https://serv.biokic.asu.edu/imglib/h_seinet/se...   \n",
      "\n",
      "                                   goodQualityAccessURI  rights  \\\n",
      "424   https://serv.biokic.asu.edu/imglib/h_seinet/se...     NaN   \n",
      "425   https://serv.biokic.asu.edu/imglib/h_seinet/se...     NaN   \n",
      "683   https://serv.biokic.asu.edu/imglib/h_seinet/se...     NaN   \n",
      "1141  https://serv.biokic.asu.edu/imglib/h_seinet/se...     NaN   \n",
      "1142  https://serv.biokic.asu.edu/imglib/h_seinet/se...     NaN   \n",
      "\n",
      "                                                  Owner  \\\n",
      "424   Arizona State University Vascular Plant Herbar...   \n",
      "425   Arizona State University Vascular Plant Herbar...   \n",
      "683   Arizona State University Vascular Plant Herbar...   \n",
      "1141            Desert Botanical Garden Herbarium (DES)   \n",
      "1142            Desert Botanical Garden Herbarium (DES)   \n",
      "\n",
      "                                 UsageTerms  \\\n",
      "424   CC BY-NC (Attribution-Non-Commercial)   \n",
      "425   CC BY-NC (Attribution-Non-Commercial)   \n",
      "683   CC BY-NC (Attribution-Non-Commercial)   \n",
      "1141  CC BY-NC (Attribution-Non-Commercial)   \n",
      "1142  CC BY-NC (Attribution-Non-Commercial)   \n",
      "\n",
      "                                        WebStatement caption comments  \\\n",
      "424   http://creativecommons.org/licenses/by-nc/3.0/     NaN      NaN   \n",
      "425   http://creativecommons.org/licenses/by-nc/3.0/     NaN      NaN   \n",
      "683   http://creativecommons.org/licenses/by-nc/3.0/     NaN      NaN   \n",
      "1141  http://creativecommons.org/licenses/by-nc/3.0/     NaN      NaN   \n",
      "1142  http://creativecommons.org/licenses/by-nc/3.0/     NaN      NaN   \n",
      "\n",
      "                                  providerManagedID         MetadataDate  \\\n",
      "424   urn:uuid:55a6cb14-721b-4ed2-8c19-b5e8bd1613d7  2011-11-09 23:57:12   \n",
      "425   urn:uuid:768c2b2f-c454-4312-ae84-5df43e489d75  2011-11-09 23:57:12   \n",
      "683   urn:uuid:1bd8121a-07bf-451a-8d6d-1b14f4d90bc0  2011-11-09 23:57:49   \n",
      "1141  urn:uuid:ae72b62c-f4bd-42d0-b75a-f4be747ae521  2013-09-04 15:17:27   \n",
      "1142  urn:uuid:5181c9e4-59a7-4e59-b3d7-f8249f35f1a4  2013-09-04 15:11:21   \n",
      "\n",
      "          format                        associatedSpecimenReference  \\\n",
      "424   image/jpeg  http://swbiodiversity.org/seinet/collections/i...   \n",
      "425   image/jpeg  http://swbiodiversity.org/seinet/collections/i...   \n",
      "683   image/jpeg  http://swbiodiversity.org/seinet/collections/i...   \n",
      "1141  image/jpeg  http://swbiodiversity.org/seinet/collections/i...   \n",
      "1142  image/jpeg  http://swbiodiversity.org/seinet/collections/i...   \n",
      "\n",
      "            type     subtype metadataLanguage  \n",
      "424   StillImage  Photograph               en  \n",
      "425   StillImage  Photograph               en  \n",
      "683   StillImage  Photograph               en  \n",
      "1141  StillImage  Photograph               en  \n",
      "1142  StillImage  Photograph               en  \n"
     ]
    }
   ],
   "source": [
    "import pandas\n",
    "\n",
    "data = pandas.read_csv(r\".\\pro_occurrences.csv\", encoding='latin-1')\n",
    "ids = set(data['id'])\n",
    "\n",
    "ls = []\n",
    "\n",
    "img = pandas.read_csv(r\".\\images.csv\")\n",
    "\n",
    "for i in range(0, len(img)):\n",
    "    #print(img['coreid'].iloc[i])\n",
    "    if(img['coreid'].iloc[i] not in ids):\n",
    "        ls.append(i)\n",
    "        \n",
    "img.drop(ls, inplace=True)"
   ]
  },
  {
   "cell_type": "code",
   "execution_count": 3,
   "metadata": {},
   "outputs": [],
   "source": [
    "img.to_csv(r\"./pro_images.csv\", index=False)"
   ]
  },
  {
   "cell_type": "code",
   "execution_count": 4,
   "metadata": {},
   "outputs": [
    {
     "name": "stdout",
     "output_type": "stream",
     "text": [
      "2146\n"
     ]
    }
   ],
   "source": [
    "print(len(data))"
   ]
  },
  {
   "cell_type": "code",
   "execution_count": 27,
   "metadata": {},
   "outputs": [
    {
     "name": "stdout",
     "output_type": "stream",
     "text": [
      "0\n",
      "969\n"
     ]
    }
   ],
   "source": [
    "cols = list(data.columns.values)\n",
    "combined = pandas.DataFrame(columns = cols)\n",
    "\n",
    "print(len(combined))\n",
    "\n",
    "uri = []\n",
    "\n",
    "for i in range(len(img)):\n",
    "    ind = img.iloc[i][\"coreid\"]\n",
    "    j = data[data['id'] == ind].index.values.astype(int)[0]\n",
    "    row = data.iloc[j]\n",
    "    uri.append(img.iloc[i][\"accessURI\"])\n",
    "    combined.loc[i] = row\n",
    "\n",
    "print(len(combined))"
   ]
  },
  {
   "cell_type": "code",
   "execution_count": 31,
   "metadata": {},
   "outputs": [],
   "source": [
    "combined['accessURI'] = uri"
   ]
  },
  {
   "cell_type": "code",
   "execution_count": 34,
   "metadata": {},
   "outputs": [
    {
     "name": "stdout",
     "output_type": "stream",
     "text": [
      "Index(['id', 'institutionCode', 'collectionCode', 'ownerInstitutionCode',\n",
      "       'basisOfRecord', 'occurrenceID', 'catalogNumber', 'otherCatalogNumbers',\n",
      "       'kingdom', 'phylum', 'class', 'order', 'family', 'scientificName',\n",
      "       'taxonID', 'scientificNameAuthorship', 'genus', 'specificEpithet',\n",
      "       'taxonRank', 'infraspecificEpithet', 'identifiedBy', 'dateIdentified',\n",
      "       'identificationReferences', 'identificationRemarks', 'taxonRemarks',\n",
      "       'identificationQualifier', 'typeStatus', 'recordedBy',\n",
      "       'associatedCollectors', 'recordNumber', 'eventDate', 'year', 'month',\n",
      "       'day', 'startDayOfYear', 'endDayOfYear', 'verbatimEventDate',\n",
      "       'occurrenceRemarks', 'habitat', 'substrate', 'verbatimAttributes',\n",
      "       'fieldNumber', 'informationWithheld', 'dataGeneralizations',\n",
      "       'dynamicProperties', 'associatedTaxa', 'reproductiveCondition',\n",
      "       'establishmentMeans', 'cultivationStatus', 'lifeStage', 'sex',\n",
      "       'individualCount', 'preparations', 'country', 'stateProvince', 'county',\n",
      "       'municipality', 'locality', 'locationRemarks', 'localitySecurity',\n",
      "       'localitySecurityReason', 'decimalLatitude', 'decimalLongitude',\n",
      "       'geodeticDatum', 'coordinateUncertaintyInMeters', 'verbatimCoordinates',\n",
      "       'georeferencedBy', 'georeferenceProtocol', 'georeferenceSources',\n",
      "       'georeferenceVerificationStatus', 'georeferenceRemarks',\n",
      "       'minimumElevationInMeters', 'maximumElevationInMeters',\n",
      "       'minimumDepthInMeters', 'maximumDepthInMeters', 'verbatimDepth',\n",
      "       'verbatimElevation', 'disposition', 'language', 'recordEnteredBy',\n",
      "       'modified', 'sourcePrimaryKey-dbpk', 'collId', 'recordId', 'references',\n",
      "       'accessURI'],\n",
      "      dtype='object')\n",
      "969\n"
     ]
    }
   ],
   "source": [
    "print(combined.columns)\n",
    "print(len(combined))"
   ]
  },
  {
   "cell_type": "code",
   "execution_count": 33,
   "metadata": {},
   "outputs": [],
   "source": [
    "combined.to_csv(r\"./pro_combined.csv\", index=False)"
   ]
  },
  {
   "cell_type": "code",
   "execution_count": null,
   "metadata": {},
   "outputs": [],
   "source": []
  }
 ],
 "metadata": {
  "kernelspec": {
   "display_name": "Python 3",
   "language": "python",
   "name": "python3"
  },
  "language_info": {
   "codemirror_mode": {
    "name": "ipython",
    "version": 3
   },
   "file_extension": ".py",
   "mimetype": "text/x-python",
   "name": "python",
   "nbconvert_exporter": "python",
   "pygments_lexer": "ipython3",
   "version": "3.7.6"
  }
 },
 "nbformat": 4,
 "nbformat_minor": 4
}
